{
 "cells": [
  {
   "cell_type": "code",
   "execution_count": 1,
   "id": "d2e0e6ce-b6d4-4095-b416-e2fb8adf115e",
   "metadata": {},
   "outputs": [],
   "source": [
    "import pandas as pd"
   ]
  },
  {
   "cell_type": "code",
   "execution_count": 2,
   "id": "4e197f58-7608-4f6b-8379-efd2c12495b5",
   "metadata": {},
   "outputs": [],
   "source": [
    "import numpy as np"
   ]
  },
  {
   "cell_type": "code",
   "execution_count": 3,
   "id": "4de75275-394b-4c42-b875-7768041ec084",
   "metadata": {},
   "outputs": [],
   "source": [
    "my_li=[1,2,3,4]\n",
    "my_tu=(1,3,5,6)\n"
   ]
  },
  {
   "cell_type": "code",
   "execution_count": 4,
   "id": "a8728410-4e15-4985-bcf7-78d37b9416d9",
   "metadata": {},
   "outputs": [
    {
     "name": "stdout",
     "output_type": "stream",
     "text": [
      "[1, 2, 3, 5]\n"
     ]
    }
   ],
   "source": [
    "my_li[-1]=5\n",
    "print(my_li)"
   ]
  },
  {
   "cell_type": "code",
   "execution_count": 7,
   "id": "d56c140d-0051-476b-859b-3bdb17fe0a47",
   "metadata": {},
   "outputs": [
    {
     "name": "stdout",
     "output_type": "stream",
     "text": [
      "[25, 14, 23]\n"
     ]
    }
   ],
   "source": [
    "a=[23,14,23,25,14]\n",
    "\n",
    "b=set(a)\n",
    "b=list(b)\n",
    "print(b)"
   ]
  },
  {
   "cell_type": "code",
   "execution_count": 8,
   "id": "0985e099-c10f-4465-b482-e8efa60961ec",
   "metadata": {},
   "outputs": [
    {
     "name": "stdout",
     "output_type": "stream",
     "text": [
      "{'a': 2}\n"
     ]
    }
   ],
   "source": [
    "my_dict = {'a':1, 'a':2}\n",
    "print(my_dict)"
   ]
  },
  {
   "cell_type": "code",
   "execution_count": 9,
   "id": "2da3c9e4-1039-414a-bc23-40649d1ab62a",
   "metadata": {},
   "outputs": [
    {
     "name": "stdout",
     "output_type": "stream",
     "text": [
      "a\n",
      "b\n",
      "c\n",
      "d\n"
     ]
    }
   ],
   "source": [
    "my_di={'a':1,'b':2,'c':3,'d':4}\n",
    "for x in my_di:\n",
    "    print(x)"
   ]
  },
  {
   "cell_type": "code",
   "execution_count": 11,
   "id": "8e202a6c-a572-41e5-a593-71fb6a1c2c62",
   "metadata": {},
   "outputs": [
    {
     "name": "stdout",
     "output_type": "stream",
     "text": [
      "a 1\n",
      "b 2\n",
      "c 3\n",
      "d 4\n"
     ]
    }
   ],
   "source": [
    "for key,value in my_di.items():\n",
    "    print(key,value)\n",
    "    "
   ]
  },
  {
   "cell_type": "code",
   "execution_count": 12,
   "id": "f8cfc5da-d507-4346-a85a-a53d7dcb16ff",
   "metadata": {},
   "outputs": [
    {
     "name": "stdout",
     "output_type": "stream",
     "text": [
      "0 23\n",
      "1 34\n",
      "2 534\n",
      "3 12\n"
     ]
    }
   ],
   "source": [
    "my_list = [23,34,534,12]\n",
    "for index, value in enumerate(my_list):\n",
    "    print(index, value)"
   ]
  },
  {
   "cell_type": "markdown",
   "id": "04807ef0-a25f-4557-8516-d8699ce8c830",
   "metadata": {},
   "source": [
    "# numpy\n"
   ]
  },
  {
   "cell_type": "code",
   "execution_count": 13,
   "id": "5fd30e42-48bf-460a-abee-ae00fdd79d50",
   "metadata": {},
   "outputs": [],
   "source": [
    "my_list=[1,4,56,7,89,44,90]"
   ]
  },
  {
   "cell_type": "code",
   "execution_count": 16,
   "id": "d2aa6e8f-6605-4bfe-8a28-e6ee17486aa8",
   "metadata": {},
   "outputs": [],
   "source": [
    "a=np.array(my_list)"
   ]
  },
  {
   "cell_type": "code",
   "execution_count": 17,
   "id": "9b90aceb-d3e1-4794-83fb-9c14800c4708",
   "metadata": {},
   "outputs": [],
   "source": [
    "my_ca=[3,5,88,90,22,41,21]\n",
    "b=np.array(my_ca)"
   ]
  },
  {
   "cell_type": "code",
   "execution_count": 18,
   "id": "cb1ef71f-ed8e-4c12-8978-3e58afbca7b2",
   "metadata": {},
   "outputs": [
    {
     "name": "stdout",
     "output_type": "stream",
     "text": [
      "[  4   9 144  97 111  85 111]\n"
     ]
    }
   ],
   "source": [
    "print(a+b)"
   ]
  },
  {
   "cell_type": "code",
   "execution_count": 19,
   "id": "944bc1cf-cf3e-4ddd-b95f-e629a9c68e65",
   "metadata": {},
   "outputs": [
    {
     "name": "stdout",
     "output_type": "stream",
     "text": [
      "[   3   20 4928  630 1958 1804 1890]\n"
     ]
    }
   ],
   "source": [
    "print(a*b)\n"
   ]
  },
  {
   "cell_type": "code",
   "execution_count": 20,
   "id": "01ae3685-e385-4561-9db2-04cb49c44051",
   "metadata": {},
   "outputs": [],
   "source": [
    "a=[[1,2,3],\n",
    "  [4,5,6]]\n",
    "a=np.array(a)\n",
    "\n"
   ]
  },
  {
   "cell_type": "code",
   "execution_count": 21,
   "id": "b3f5df4e-62ec-4c28-8547-d4fdddb3bbd5",
   "metadata": {},
   "outputs": [
    {
     "name": "stdout",
     "output_type": "stream",
     "text": [
      "[[1 2 3]\n",
      " [4 5 6]]\n"
     ]
    }
   ],
   "source": [
    "print(a)"
   ]
  },
  {
   "cell_type": "code",
   "execution_count": 22,
   "id": "3b1fee48-d0a4-49a2-a246-25e1610ea0da",
   "metadata": {},
   "outputs": [
    {
     "data": {
      "text/plain": [
       "array([[1, 2],\n",
       "       [3, 4],\n",
       "       [5, 6]])"
      ]
     },
     "execution_count": 22,
     "metadata": {},
     "output_type": "execute_result"
    }
   ],
   "source": [
    "a.reshape(3,2)"
   ]
  },
  {
   "cell_type": "code",
   "execution_count": 24,
   "id": "f6db0f27-6d45-472b-ba3f-92901359b8d6",
   "metadata": {},
   "outputs": [
    {
     "data": {
      "text/plain": [
       "array([[1, 2, 3, 4, 5, 6]])"
      ]
     },
     "execution_count": 24,
     "metadata": {},
     "output_type": "execute_result"
    }
   ],
   "source": [
    "a.reshape(1,6) #or a.ravel()"
   ]
  },
  {
   "cell_type": "markdown",
   "id": "2b44b952-e857-4940-adda-0fedb7a4a80d",
   "metadata": {},
   "source": [
    "# pandas\n"
   ]
  },
  {
   "cell_type": "code",
   "execution_count": 26,
   "id": "5da0873c-ed27-4ed9-8f2a-f5e97251d660",
   "metadata": {},
   "outputs": [],
   "source": [
    "data = {\n",
    "    'Name': ['Alice', 'Bob', 'Charlie'],\n",
    "    'Age': [25, 30, 35],\n",
    "    'City': ['NYC', 'LA', 'Chicago']\n",
    "}"
   ]
  },
  {
   "cell_type": "code",
   "execution_count": 28,
   "id": "17823c58-0cb9-4ede-9f1c-344850578dc3",
   "metadata": {},
   "outputs": [
    {
     "name": "stdout",
     "output_type": "stream",
     "text": [
      "      Name  Age     City\n",
      "0    Alice   25      NYC\n",
      "1      Bob   30       LA\n",
      "2  Charlie   35  Chicago\n"
     ]
    }
   ],
   "source": [
    "df = pd.DataFrame(data)\n",
    "\n",
    "print(df)"
   ]
  },
  {
   "cell_type": "code",
   "execution_count": 29,
   "id": "4ce7754f-c154-4e99-8a03-e3273e5a733c",
   "metadata": {},
   "outputs": [
    {
     "name": "stdout",
     "output_type": "stream",
     "text": [
      "<class 'pandas.core.frame.DataFrame'>\n",
      "RangeIndex: 3 entries, 0 to 2\n",
      "Data columns (total 3 columns):\n",
      " #   Column  Non-Null Count  Dtype \n",
      "---  ------  --------------  ----- \n",
      " 0   Name    3 non-null      object\n",
      " 1   Age     3 non-null      int64 \n",
      " 2   City    3 non-null      object\n",
      "dtypes: int64(1), object(2)\n",
      "memory usage: 200.0+ bytes\n"
     ]
    }
   ],
   "source": [
    "df.info()"
   ]
  },
  {
   "cell_type": "code",
   "execution_count": 31,
   "id": "5dea2d72-58a6-4aed-924f-cbd9f39a29c2",
   "metadata": {},
   "outputs": [
    {
     "data": {
      "text/plain": [
       "(3, 3)"
      ]
     },
     "execution_count": 31,
     "metadata": {},
     "output_type": "execute_result"
    }
   ],
   "source": [
    "df.shape"
   ]
  },
  {
   "cell_type": "code",
   "execution_count": 34,
   "id": "fb0ba27c-3a3d-4516-b6a8-333aef0d3329",
   "metadata": {},
   "outputs": [
    {
     "data": {
      "text/plain": [
       "1        Bob\n",
       "2    Charlie\n",
       "Name: Name, dtype: object"
      ]
     },
     "execution_count": 34,
     "metadata": {},
     "output_type": "execute_result"
    }
   ],
   "source": [
    "df[df['Age']>=30]['Name']"
   ]
  },
  {
   "cell_type": "markdown",
   "id": "d6804b60-fcf0-4880-83f5-a1d715087efa",
   "metadata": {},
   "source": [
    "# BÀI TẬP PYTHON\n",
    "\n"
   ]
  },
  {
   "cell_type": "code",
   "execution_count": 5,
   "id": "1c532463-21a1-4a87-9c35-7eb4add74422",
   "metadata": {},
   "outputs": [
    {
     "name": "stdout",
     "output_type": "stream",
     "text": [
      "Các số nguyên tố nhỏ hơn 100 là:\n",
      "[2, 3, 5, 7, 11, 13, 17, 19, 23, 29, 31, 37, 41, 43, 47, 53, 59, 61, 67, 71, 73, 79, 83, 89, 97]\n"
     ]
    }
   ],
   "source": [
    "# Tìm tất cả các số nguyên tố nhỏ hơn 100.\n",
    "\n",
    "def is_prime(n):\n",
    "    if n < 2:\n",
    "        return False\n",
    "    for i in range(2, int(n**0.5) + 1):\n",
    "        if n % i == 0:\n",
    "            return False\n",
    "    return True\n",
    "n=100\n",
    "# Tạo danh sách các số nguyên tố nhỏ hơn n\n",
    "primes = []  # Khởi tạo danh sách rỗng để lưu số nguyên tố\n",
    "for i in range(n):\n",
    "    if is_prime(i):\n",
    "        primes.append(i)\n",
    "\n",
    "# In danh sách các số nguyên tố ra màn hình\n",
    "print(\"Các số nguyên tố nhỏ hơn\", n, \"là:\")\n",
    "print(primes)\n"
   ]
  },
  {
   "cell_type": "code",
   "execution_count": 8,
   "id": "81ea6343-cdf5-4996-aac8-930e9cde0a38",
   "metadata": {},
   "outputs": [
    {
     "data": {
      "text/plain": [
       "False"
      ]
     },
     "execution_count": 8,
     "metadata": {},
     "output_type": "execute_result"
    }
   ],
   "source": [
    "# kiểm tra số nguyên tố:\n",
    "def is_prime(n):\n",
    "    if n < 2:\n",
    "        return False\n",
    "    for i in range(2, int(n**0.5) + 1):\n",
    "        if n % i == 0:\n",
    "            return False\n",
    "    return True\n",
    "is_prime(92)\n"
   ]
  },
  {
   "cell_type": "code",
   "execution_count": 10,
   "id": "8a918828-102d-4e59-a663-24e7a1ee7484",
   "metadata": {},
   "outputs": [
    {
     "data": {
      "text/plain": [
       "6"
      ]
     },
     "execution_count": 10,
     "metadata": {},
     "output_type": "execute_result"
    }
   ],
   "source": [
    "# tính giao thừa số nguyên dương\n",
    "def giaithua(n):\n",
    "    if n==0 or n==1:\n",
    "        return 1\n",
    "    else:\n",
    "        return n*giaithua(n-1)\n",
    "giaithua(3)"
   ]
  },
  {
   "cell_type": "code",
   "execution_count": 11,
   "id": "965d5dd2-afc2-47fe-aa81-5e75676aa3fb",
   "metadata": {},
   "outputs": [
    {
     "data": {
      "text/plain": [
       "False"
      ]
     },
     "execution_count": 11,
     "metadata": {},
     "output_type": "execute_result"
    }
   ],
   "source": [
    "#Viết hàm kiểm tra chuỗi có phải là palindrome không.\n",
    "def is_palindrome(s):\n",
    "    s=s.lower().replace(\" \",\"\")\n",
    "    if s==s[::-1]:\n",
    "        return True\n",
    "    else:\n",
    "        return False\n",
    "is_palindrome(\"hello\")\n",
    "    "
   ]
  },
  {
   "cell_type": "code",
   "execution_count": 16,
   "id": "ceb7624a-e139-45d7-8155-f7f958739fc4",
   "metadata": {},
   "outputs": [
    {
     "data": {
      "text/plain": [
       "{'apple': 2, 'banana': 1}"
      ]
     },
     "execution_count": 16,
     "metadata": {},
     "output_type": "execute_result"
    }
   ],
   "source": [
    "#Viết chương trình đếm số lần xuất hiện của từng phần tử trong một danh sách\n",
    "def count(my_list):\n",
    "    dic={}\n",
    "    for i in my_list:\n",
    "        if i in dic:\n",
    "            dic[i]+=1\n",
    "        else:\n",
    "            dic[i]=1\n",
    "    return dic\n",
    "count(['apple', 'banana', 'apple'])\n",
    "\n",
    "\n"
   ]
  },
  {
   "cell_type": "code",
   "execution_count": 18,
   "id": "64b87be1-fee8-4a5d-9c8f-a235c5b9a401",
   "metadata": {},
   "outputs": [
    {
     "name": "stdout",
     "output_type": "stream",
     "text": [
      "[3, 6, 9]\n"
     ]
    }
   ],
   "source": [
    "#Viết hàm nhận vào danh sách số, trả về danh sách chứa các số chia hết cho 3.\n",
    "def div_3(my_list):\n",
    "    my_li=[]\n",
    "    for x in my_list:\n",
    "        if x%3 ==0:\n",
    "            my_li.append(x)\n",
    "        else:\n",
    "            continue\n",
    "    print(my_li)\n",
    "div_3([2,3,6,9,10])"
   ]
  },
  {
   "cell_type": "code",
   "execution_count": 21,
   "id": "08948e3f-c285-45f2-aee2-d60a458a966e",
   "metadata": {},
   "outputs": [
    {
     "name": "stdout",
     "output_type": "stream",
     "text": [
      "{'I': 1, ' ': 3, 'A': 2, 'M': 1, 'B': 1, 'O': 1, 'Y': 1}\n"
     ]
    }
   ],
   "source": [
    "# Viết chương trình đếm số lần xuất hiện của từng ký tự trong một chuỗi.\n",
    "def count_ele(my_str):\n",
    "    dic={}\n",
    "    for x in my_str:\n",
    "        if x in dic:\n",
    "            dic[x]+=1\n",
    "        else:\n",
    "            dic[x]=1\n",
    "    print(dic)\n",
    "count_ele(\"I AM A BOY\")"
   ]
  },
  {
   "cell_type": "code",
   "execution_count": 26,
   "id": "3101c0e8-1bbd-4834-a7a5-fd139a93e5f1",
   "metadata": {},
   "outputs": [
    {
     "name": "stdout",
     "output_type": "stream",
     "text": [
      "3\n",
      "{'MY', 'LINH', 'HUNG'}\n"
     ]
    }
   ],
   "source": [
    "#Cho danh sách tên học sinh, đếm xem có bao nhiêu tên khác nhau.\n",
    "def su_name(li_name):\n",
    "    a=set(li_name)\n",
    "    b=list(a)\n",
    "    print(len(a))\n",
    "    print(a)\n",
    "su_name([\"LINH\",\"HUNG\",\"LINH\",\"MY\"])"
   ]
  },
  {
   "cell_type": "markdown",
   "id": "d55be069-0cac-480b-bed4-5c2e004dcd95",
   "metadata": {},
   "source": [
    "# BÀI TẬP NUMPY\n"
   ]
  },
  {
   "cell_type": "code",
   "execution_count": 31,
   "id": "db7e5c2c-2548-41f4-b49a-e815006bc902",
   "metadata": {},
   "outputs": [
    {
     "name": "stdout",
     "output_type": "stream",
     "text": [
      "[[3 7 3 8 8 7 2 1 7]]\n"
     ]
    }
   ],
   "source": [
    "import numpy as np\n",
    "a=np.random.randint(0,9,(1,9))\n",
    "print(a)"
   ]
  },
  {
   "cell_type": "code",
   "execution_count": 34,
   "id": "4a3ef638-2229-4abf-8555-24fe1f739868",
   "metadata": {},
   "outputs": [
    {
     "name": "stdout",
     "output_type": "stream",
     "text": [
      "[0 1 2 3 4 5 6 7 8 9]\n",
      "45 4.5 0 9\n"
     ]
    }
   ],
   "source": [
    "arr = np.arange(10)\n",
    "print(arr) \n",
    "b=np.sum(arr)\n",
    "c=np.mean(arr)\n",
    "min_arr=np.min(arr)\n",
    "max_arr=np.max(arr)\n",
    "print(b,c,min_arr,max_arr)"
   ]
  },
  {
   "cell_type": "code",
   "execution_count": 40,
   "id": "bb85c558-0c4f-4a38-8ea6-6a4201bc508f",
   "metadata": {},
   "outputs": [
    {
     "name": "stdout",
     "output_type": "stream",
     "text": [
      "[ 2  5  8 11]\n",
      "[10 11 12]\n"
     ]
    }
   ],
   "source": [
    "\n",
    "a = np.array([[1, 2, 3],\n",
    "              [4, 5, 6],\n",
    "              [7, 8, 9],\n",
    "              [10, 11, 12]])\n",
    "print(a[:,1])\n",
    "print(a[3,:])"
   ]
  },
  {
   "cell_type": "code",
   "execution_count": 2,
   "id": "2ec361a1-c54c-4e0b-91ef-e37728c3b553",
   "metadata": {},
   "outputs": [
    {
     "name": "stdout",
     "output_type": "stream",
     "text": [
      "[12 20 15 25]\n"
     ]
    }
   ],
   "source": [
    "import numpy as np\n",
    "a = np.array([[5, 12, 7],\n",
    "              [20, 3, 15],\n",
    "              [8, 25, 1]])\n",
    "\n",
    "# Trích xuất các phần tử > 10\n",
    "result = a[a > 10]\n",
    "\n",
    "print(result)"
   ]
  },
  {
   "cell_type": "code",
   "execution_count": 3,
   "id": "71d4f410-8dc7-4d1d-b165-3bd5c948324e",
   "metadata": {},
   "outputs": [
    {
     "name": "stdout",
     "output_type": "stream",
     "text": [
      "[[9 9 8]\n",
      " [2 2 3]\n",
      " [8 9 7]]\n",
      "[[8 3 8]\n",
      " [1 8 2]\n",
      " [4 2 5]]\n",
      "[[17 12 16]\n",
      " [ 3 10  5]\n",
      " [12 11 12]]\n",
      "[[ 1  6  0]\n",
      " [ 1 -6  1]\n",
      " [ 4  7  2]]\n",
      "[[72 27 64]\n",
      " [ 2 16  6]\n",
      " [32 18 35]]\n"
     ]
    }
   ],
   "source": [
    "#Tạo 2 mảng ngẫu nhiên cùng kích thước, thực hiện cộng, trừ, nhân từng phần tử.\n",
    "#Tính phương sai, độ lệch chuẩn và trung vị của một mảng ngẫu nhiên.\n",
    "#TChuẩn hóa một mảng dữ liệu (z-score).\n",
    "import numpy as np\n",
    "\n",
    "# Tạo 2 mảng ngẫu nhiên 3x3\n",
    "a = np.random.randint(1, 10, size=(3, 3))\n",
    "b = np.random.randint(1, 10, size=(3, 3))\n",
    "\n",
    "print(a)\n",
    "print(b)\n",
    "\n",
    "# Cộng từng phần tử\n",
    "add = a + b\n",
    "print(add)\n",
    "\n",
    "# Trừ từng phần tử\n",
    "sub = a - b\n",
    "print(sub)\n",
    "\n",
    "# Nhân từng phần tử (element-wise)\n",
    "mul = a * b\n",
    "print(mul)\n",
    "\n"
   ]
  },
  {
   "cell_type": "code",
   "execution_count": 6,
   "id": "c8c113e3-27d8-4372-9d50-a88baa656e2f",
   "metadata": {},
   "outputs": [
    {
     "name": "stdout",
     "output_type": "stream",
     "text": [
      "[90 18 10 78  3 24 33 19 39 16 98  9 37 74 82  9 61 59 79 81]\n",
      "Phương sai: 976.5475\n",
      "Độ lệch chuẩn: 31.249759999078393\n",
      "Trung vị: 38.0\n",
      "Z-score: [ 1.40961083 -0.89440687 -1.15040884  1.02560788 -1.37441056 -0.70240539\n",
      " -0.41440318 -0.86240662 -0.22240171 -0.95840736  1.66561279 -1.18240908\n",
      " -0.2864022   0.89760689  1.15360886 -1.18240908  0.4816037   0.41760321\n",
      "  1.05760812  1.12160861]\n"
     ]
    }
   ],
   "source": [
    "import numpy as np\n",
    "\n",
    "# Tạo mảng ngẫu nhiên\n",
    "data = np.random.randint(1, 100, size=20)\n",
    "\n",
    "print(data)\n",
    "\n",
    "# Phương sai\n",
    "variance = np.var(data)\n",
    "print(\"Phương sai:\", variance)\n",
    "\n",
    "# Độ lệch chuẩn\n",
    "std_dev = np.std(data)\n",
    "print(\"Độ lệch chuẩn:\", std_dev)\n",
    "\n",
    "# Trung vị\n",
    "median = np.median(data)\n",
    "print(\"Trung vị:\", median)\n",
    "\n",
    "# Tính trung bình và độ lệch chuẩn\n",
    "mean = np.mean(data)\n",
    "std = np.std(data)\n",
    "\n",
    "# Chuẩn hóa Z-score\n",
    "z_scores = (data - mean) / std\n",
    "\n",
    "print(\"Z-score:\", z_scores)\n",
    "\n",
    "\n"
   ]
  },
  {
   "cell_type": "markdown",
   "id": "6c52eb91-8701-4c2d-8dd0-383a143c9cff",
   "metadata": {},
   "source": [
    "# BÀI TẬP PANDAS"
   ]
  },
  {
   "cell_type": "code",
   "execution_count": 27,
   "id": "58350291-9080-452e-909d-f7db04d59262",
   "metadata": {},
   "outputs": [
    {
     "data": {
      "text/html": [
       "<div>\n",
       "<style scoped>\n",
       "    .dataframe tbody tr th:only-of-type {\n",
       "        vertical-align: middle;\n",
       "    }\n",
       "\n",
       "    .dataframe tbody tr th {\n",
       "        vertical-align: top;\n",
       "    }\n",
       "\n",
       "    .dataframe thead th {\n",
       "        text-align: right;\n",
       "    }\n",
       "</style>\n",
       "<table border=\"1\" class=\"dataframe\">\n",
       "  <thead>\n",
       "    <tr style=\"text-align: right;\">\n",
       "      <th></th>\n",
       "      <th>track_name</th>\n",
       "      <th>artist</th>\n",
       "      <th>album</th>\n",
       "      <th>release_date</th>\n",
       "      <th>popularity</th>\n",
       "      <th>spotify_url</th>\n",
       "      <th>id</th>\n",
       "      <th>duration_min</th>\n",
       "    </tr>\n",
       "  </thead>\n",
       "  <tbody>\n",
       "    <tr>\n",
       "      <th>0</th>\n",
       "      <td>All The Stars (with SZA)</td>\n",
       "      <td>Kendrick Lamar</td>\n",
       "      <td>Black Panther The Album Music From And Inspire...</td>\n",
       "      <td>2018-02-09</td>\n",
       "      <td>95</td>\n",
       "      <td>https://open.spotify.com/track/3GCdLUSnKSMJhs4...</td>\n",
       "      <td>3GCdLUSnKSMJhs4Tj6CV3s</td>\n",
       "      <td>3.869767</td>\n",
       "    </tr>\n",
       "    <tr>\n",
       "      <th>1</th>\n",
       "      <td>Starboy</td>\n",
       "      <td>The Weeknd</td>\n",
       "      <td>Starboy</td>\n",
       "      <td>2016-11-25</td>\n",
       "      <td>90</td>\n",
       "      <td>https://open.spotify.com/track/7MXVkk9YMctZqd1...</td>\n",
       "      <td>7MXVkk9YMctZqd1Srtv4MB</td>\n",
       "      <td>3.840883</td>\n",
       "    </tr>\n",
       "    <tr>\n",
       "      <th>2</th>\n",
       "      <td>Señorita</td>\n",
       "      <td>Shawn Mendes</td>\n",
       "      <td>Señorita</td>\n",
       "      <td>2019-06-21</td>\n",
       "      <td>80</td>\n",
       "      <td>https://open.spotify.com/track/0TK2YIli7K1leLo...</td>\n",
       "      <td>0TK2YIli7K1leLovkQiNik</td>\n",
       "      <td>3.182667</td>\n",
       "    </tr>\n",
       "    <tr>\n",
       "      <th>3</th>\n",
       "      <td>Heat Waves</td>\n",
       "      <td>Glass Animals</td>\n",
       "      <td>Dreamland</td>\n",
       "      <td>2020-08-07</td>\n",
       "      <td>87</td>\n",
       "      <td>https://open.spotify.com/track/3USxtqRwSYz57Ew...</td>\n",
       "      <td>3USxtqRwSYz57Ewm6wWRMp</td>\n",
       "      <td>3.980083</td>\n",
       "    </tr>\n",
       "    <tr>\n",
       "      <th>4</th>\n",
       "      <td>Let Me Love You</td>\n",
       "      <td>DJ Snake</td>\n",
       "      <td>Encore</td>\n",
       "      <td>2016-08-05</td>\n",
       "      <td>87</td>\n",
       "      <td>https://open.spotify.com/track/0lYBSQXN6rCTvUZ...</td>\n",
       "      <td>0lYBSQXN6rCTvUZvg9S0lU</td>\n",
       "      <td>3.432433</td>\n",
       "    </tr>\n",
       "    <tr>\n",
       "      <th>5</th>\n",
       "      <td>La La La</td>\n",
       "      <td>Naughty Boy</td>\n",
       "      <td>La La La</td>\n",
       "      <td>2013-01-01</td>\n",
       "      <td>77</td>\n",
       "      <td>https://open.spotify.com/track/52gvlDnre9craz9...</td>\n",
       "      <td>52gvlDnre9craz9dKGObp8</td>\n",
       "      <td>3.679650</td>\n",
       "    </tr>\n",
       "    <tr>\n",
       "      <th>6</th>\n",
       "      <td>Apocalypse</td>\n",
       "      <td>Cigarettes After Sex</td>\n",
       "      <td>Cigarettes After Sex</td>\n",
       "      <td>2017-06-09</td>\n",
       "      <td>73</td>\n",
       "      <td>https://open.spotify.com/track/0yc6Gst2xkRu0eM...</td>\n",
       "      <td>0yc6Gst2xkRu0eMLeRMGCX</td>\n",
       "      <td>4.843600</td>\n",
       "    </tr>\n",
       "    <tr>\n",
       "      <th>7</th>\n",
       "      <td>Good For You</td>\n",
       "      <td>Selena Gomez</td>\n",
       "      <td>Revival (Deluxe)</td>\n",
       "      <td>2015-10-09</td>\n",
       "      <td>80</td>\n",
       "      <td>https://open.spotify.com/track/5xdVqHtFS0eLuNp...</td>\n",
       "      <td>5xdVqHtFS0eLuNp4Z8Wbpa</td>\n",
       "      <td>3.688000</td>\n",
       "    </tr>\n",
       "    <tr>\n",
       "      <th>8</th>\n",
       "      <td>Baby</td>\n",
       "      <td>Justin Bieber</td>\n",
       "      <td>My World 2.0</td>\n",
       "      <td>2010-01-01</td>\n",
       "      <td>84</td>\n",
       "      <td>https://open.spotify.com/track/6epn3r7S14KUqlR...</td>\n",
       "      <td>6epn3r7S14KUqlReYr77hA</td>\n",
       "      <td>3.570667</td>\n",
       "    </tr>\n",
       "    <tr>\n",
       "      <th>9</th>\n",
       "      <td>There's Nothing Holdin' Me Back</td>\n",
       "      <td>Shawn Mendes</td>\n",
       "      <td>Illuminate (Deluxe)</td>\n",
       "      <td>2017-04-20</td>\n",
       "      <td>88</td>\n",
       "      <td>https://open.spotify.com/track/7JJmb5XwzOO8jgp...</td>\n",
       "      <td>7JJmb5XwzOO8jgpou264Ml</td>\n",
       "      <td>3.324000</td>\n",
       "    </tr>\n",
       "  </tbody>\n",
       "</table>\n",
       "</div>"
      ],
      "text/plain": [
       "                        track_name                artist  \\\n",
       "0         All The Stars (with SZA)        Kendrick Lamar   \n",
       "1                          Starboy            The Weeknd   \n",
       "2                         Señorita          Shawn Mendes   \n",
       "3                       Heat Waves         Glass Animals   \n",
       "4                  Let Me Love You              DJ Snake   \n",
       "5                         La La La           Naughty Boy   \n",
       "6                       Apocalypse  Cigarettes After Sex   \n",
       "7                     Good For You          Selena Gomez   \n",
       "8                             Baby         Justin Bieber   \n",
       "9  There's Nothing Holdin' Me Back          Shawn Mendes   \n",
       "\n",
       "                                               album release_date  popularity  \\\n",
       "0  Black Panther The Album Music From And Inspire...   2018-02-09          95   \n",
       "1                                            Starboy   2016-11-25          90   \n",
       "2                                           Señorita   2019-06-21          80   \n",
       "3                                          Dreamland   2020-08-07          87   \n",
       "4                                             Encore   2016-08-05          87   \n",
       "5                                           La La La   2013-01-01          77   \n",
       "6                               Cigarettes After Sex   2017-06-09          73   \n",
       "7                                   Revival (Deluxe)   2015-10-09          80   \n",
       "8                                       My World 2.0   2010-01-01          84   \n",
       "9                                Illuminate (Deluxe)   2017-04-20          88   \n",
       "\n",
       "                                         spotify_url                      id  \\\n",
       "0  https://open.spotify.com/track/3GCdLUSnKSMJhs4...  3GCdLUSnKSMJhs4Tj6CV3s   \n",
       "1  https://open.spotify.com/track/7MXVkk9YMctZqd1...  7MXVkk9YMctZqd1Srtv4MB   \n",
       "2  https://open.spotify.com/track/0TK2YIli7K1leLo...  0TK2YIli7K1leLovkQiNik   \n",
       "3  https://open.spotify.com/track/3USxtqRwSYz57Ew...  3USxtqRwSYz57Ewm6wWRMp   \n",
       "4  https://open.spotify.com/track/0lYBSQXN6rCTvUZ...  0lYBSQXN6rCTvUZvg9S0lU   \n",
       "5  https://open.spotify.com/track/52gvlDnre9craz9...  52gvlDnre9craz9dKGObp8   \n",
       "6  https://open.spotify.com/track/0yc6Gst2xkRu0eM...  0yc6Gst2xkRu0eMLeRMGCX   \n",
       "7  https://open.spotify.com/track/5xdVqHtFS0eLuNp...  5xdVqHtFS0eLuNp4Z8Wbpa   \n",
       "8  https://open.spotify.com/track/6epn3r7S14KUqlR...  6epn3r7S14KUqlReYr77hA   \n",
       "9  https://open.spotify.com/track/7JJmb5XwzOO8jgp...  7JJmb5XwzOO8jgpou264Ml   \n",
       "\n",
       "   duration_min  \n",
       "0      3.869767  \n",
       "1      3.840883  \n",
       "2      3.182667  \n",
       "3      3.980083  \n",
       "4      3.432433  \n",
       "5      3.679650  \n",
       "6      4.843600  \n",
       "7      3.688000  \n",
       "8      3.570667  \n",
       "9      3.324000  "
      ]
     },
     "execution_count": 27,
     "metadata": {},
     "output_type": "execute_result"
    }
   ],
   "source": [
    "# import file\n",
    "import pandas as pd\n",
    "df = pd.read_csv('/Users/manhhung/Downloads/spotify_top_1000_tracks.csv')\n",
    "df.head(10)\n"
   ]
  },
  {
   "cell_type": "code",
   "execution_count": 16,
   "id": "8f252b10-c9c5-476a-8237-f62a03466545",
   "metadata": {},
   "outputs": [
    {
     "data": {
      "text/html": [
       "<div>\n",
       "<style scoped>\n",
       "    .dataframe tbody tr th:only-of-type {\n",
       "        vertical-align: middle;\n",
       "    }\n",
       "\n",
       "    .dataframe tbody tr th {\n",
       "        vertical-align: top;\n",
       "    }\n",
       "\n",
       "    .dataframe thead th {\n",
       "        text-align: right;\n",
       "    }\n",
       "</style>\n",
       "<table border=\"1\" class=\"dataframe\">\n",
       "  <thead>\n",
       "    <tr style=\"text-align: right;\">\n",
       "      <th></th>\n",
       "      <th>popularity</th>\n",
       "      <th>duration_min</th>\n",
       "    </tr>\n",
       "  </thead>\n",
       "  <tbody>\n",
       "    <tr>\n",
       "      <th>count</th>\n",
       "      <td>1000.000000</td>\n",
       "      <td>1000.000000</td>\n",
       "    </tr>\n",
       "    <tr>\n",
       "      <th>mean</th>\n",
       "      <td>56.669000</td>\n",
       "      <td>3.318516</td>\n",
       "    </tr>\n",
       "    <tr>\n",
       "      <th>std</th>\n",
       "      <td>28.192805</td>\n",
       "      <td>0.849591</td>\n",
       "    </tr>\n",
       "    <tr>\n",
       "      <th>min</th>\n",
       "      <td>0.000000</td>\n",
       "      <td>0.969150</td>\n",
       "    </tr>\n",
       "    <tr>\n",
       "      <th>25%</th>\n",
       "      <td>37.000000</td>\n",
       "      <td>2.754021</td>\n",
       "    </tr>\n",
       "    <tr>\n",
       "      <th>50%</th>\n",
       "      <td>68.000000</td>\n",
       "      <td>3.293833</td>\n",
       "    </tr>\n",
       "    <tr>\n",
       "      <th>75%</th>\n",
       "      <td>79.000000</td>\n",
       "      <td>3.745721</td>\n",
       "    </tr>\n",
       "    <tr>\n",
       "      <th>max</th>\n",
       "      <td>97.000000</td>\n",
       "      <td>9.497883</td>\n",
       "    </tr>\n",
       "  </tbody>\n",
       "</table>\n",
       "</div>"
      ],
      "text/plain": [
       "        popularity  duration_min\n",
       "count  1000.000000   1000.000000\n",
       "mean     56.669000      3.318516\n",
       "std      28.192805      0.849591\n",
       "min       0.000000      0.969150\n",
       "25%      37.000000      2.754021\n",
       "50%      68.000000      3.293833\n",
       "75%      79.000000      3.745721\n",
       "max      97.000000      9.497883"
      ]
     },
     "execution_count": 16,
     "metadata": {},
     "output_type": "execute_result"
    }
   ],
   "source": [
    "df.describe()"
   ]
  },
  {
   "cell_type": "code",
   "execution_count": 17,
   "id": "09b4a8e6-cad5-47de-b64d-b0ea8c32fe6f",
   "metadata": {},
   "outputs": [
    {
     "name": "stdout",
     "output_type": "stream",
     "text": [
      "<class 'pandas.core.frame.DataFrame'>\n",
      "RangeIndex: 1000 entries, 0 to 999\n",
      "Data columns (total 8 columns):\n",
      " #   Column        Non-Null Count  Dtype  \n",
      "---  ------        --------------  -----  \n",
      " 0   track_name    1000 non-null   object \n",
      " 1   artist        1000 non-null   object \n",
      " 2   album         1000 non-null   object \n",
      " 3   release_date  1000 non-null   object \n",
      " 4   popularity    1000 non-null   int64  \n",
      " 5   spotify_url   1000 non-null   object \n",
      " 6   id            1000 non-null   object \n",
      " 7   duration_min  1000 non-null   float64\n",
      "dtypes: float64(1), int64(1), object(6)\n",
      "memory usage: 62.6+ KB\n"
     ]
    }
   ],
   "source": [
    "df.info()"
   ]
  },
  {
   "cell_type": "code",
   "execution_count": 20,
   "id": "e62d597c-194c-41fd-8a94-486e15e2176a",
   "metadata": {},
   "outputs": [],
   "source": [
    "rows,cols=df.shape"
   ]
  },
  {
   "cell_type": "code",
   "execution_count": 22,
   "id": "f76913f5-01f1-4604-aa39-f7d444ac12cb",
   "metadata": {},
   "outputs": [
    {
     "data": {
      "text/plain": [
       "track_name       object\n",
       "artist           object\n",
       "album            object\n",
       "release_date     object\n",
       "popularity        int64\n",
       "spotify_url      object\n",
       "id               object\n",
       "duration_min    float64\n",
       "dtype: object"
      ]
     },
     "execution_count": 22,
     "metadata": {},
     "output_type": "execute_result"
    }
   ],
   "source": [
    "df.dtypes"
   ]
  },
  {
   "cell_type": "code",
   "execution_count": 23,
   "id": "ba6e8370-8c6d-4bd3-82a0-60d78b9e9c53",
   "metadata": {},
   "outputs": [
    {
     "data": {
      "text/plain": [
       "track_name      0\n",
       "artist          0\n",
       "album           0\n",
       "release_date    0\n",
       "popularity      0\n",
       "spotify_url     0\n",
       "id              0\n",
       "duration_min    0\n",
       "dtype: int64"
      ]
     },
     "execution_count": 23,
     "metadata": {},
     "output_type": "execute_result"
    }
   ],
   "source": [
    "df.isnull().sum()"
   ]
  },
  {
   "cell_type": "code",
   "execution_count": 30,
   "id": "c93ee311-6a23-4618-9653-0f325e45961e",
   "metadata": {},
   "outputs": [
    {
     "name": "stdout",
     "output_type": "stream",
     "text": [
      "8                                        Baby\n",
      "18                                      Sorry\n",
      "45                                      Ghost\n",
      "57                              Love Yourself\n",
      "307                                Intentions\n",
      "327    Peaches (feat. Daniel Caesar & Giveon)\n",
      "329                                   Purpose\n",
      "562                             Favorite Girl\n",
      "563                                 Boyfriend\n",
      "564                                   Love Me\n",
      "565                         What Do You Mean?\n",
      "Name: track_name, dtype: object\n"
     ]
    }
   ],
   "source": [
    "justin_songs=df[df['artist']=='Justin Bieber']['track_name']\n",
    "print(justin_songs)"
   ]
  },
  {
   "cell_type": "code",
   "execution_count": 31,
   "id": "d65f9dcb-72ff-4067-b7c3-b451f7724e9c",
   "metadata": {},
   "outputs": [
    {
     "name": "stdout",
     "output_type": "stream",
     "text": [
      "6                                     Apocalypse\n",
      "11                           Love Me Like You Do\n",
      "12                            Summertime Sadness\n",
      "19                                   Die For You\n",
      "21                                   Mockingbird\n",
      "                         ...                    \n",
      "792                                          Her\n",
      "793                   Purity (feat. Frank Ocean)\n",
      "795    Don’t Matter To Me (with Michael Jackson)\n",
      "798                                     Novacane\n",
      "799                                  The Morning\n",
      "Name: track_name, Length: 155, dtype: object\n"
     ]
    }
   ],
   "source": [
    "songs_4=df[df['duration_min']>4]['track_name']\n",
    "print(songs_4)"
   ]
  },
  {
   "cell_type": "code",
   "execution_count": 32,
   "id": "b8de76d3-9b59-43a5-bf94-d19bf6568f44",
   "metadata": {},
   "outputs": [
    {
     "name": "stdout",
     "output_type": "stream",
     "text": [
      "0         All The Stars (with SZA)\n",
      "1                          Starboy\n",
      "3                       Heat Waves\n",
      "4                  Let Me Love You\n",
      "8                             Baby\n",
      "                  ...             \n",
      "813         Thank You (Not So Bad)\n",
      "815             I Don't Wanna Wait\n",
      "819                   Stumblin' In\n",
      "821       MONTAGEM TOMADA - Slowed\n",
      "822    I Adore You (feat. Daecolm)\n",
      "Name: track_name, Length: 201, dtype: object\n"
     ]
    }
   ],
   "source": [
    "songs_4=df[df['popularity']>80]['track_name']\n",
    "print(songs_4)"
   ]
  },
  {
   "cell_type": "code",
   "execution_count": 36,
   "id": "78850b60-73d3-4e33-88c5-88557795321a",
   "metadata": {},
   "outputs": [
    {
     "name": "stdout",
     "output_type": "stream",
     "text": [
      "21                                         Mockingbird\n",
      "33                                          Without Me\n",
      "60                  Hips Don't Lie (feat. Wyclef Jean)\n",
      "61                                         Summer Love\n",
      "63     What Goes Around.../...Comes Around (Interlude)\n",
      "                            ...                       \n",
      "693                                  Enjoy the Silence\n",
      "730                         Butterflies and Hurricanes\n",
      "762                                            Islands\n",
      "780                                              Intro\n",
      "808                                        Crystalised\n",
      "Name: track_name, Length: 85, dtype: object\n"
     ]
    }
   ],
   "source": [
    "df['release_date']=pd.to_datetime(df['release_date'],errors='coerce')\n",
    "before_2010=df[df['release_date']<'2010-01-01']['track_name']\n",
    "print(before_2010)\n"
   ]
  },
  {
   "cell_type": "code",
   "execution_count": 40,
   "id": "7f8a7cca-4a06-4ea8-913d-55fe90db4a5f",
   "metadata": {},
   "outputs": [
    {
     "name": "stdout",
     "output_type": "stream",
     "text": [
      "Series([], Name: track_name, dtype: object)\n"
     ]
    }
   ],
   "source": [
    "di=df[df['album']=='Divide']['track_name']\n",
    "print(di)"
   ]
  },
  {
   "cell_type": "code",
   "execution_count": 43,
   "id": "7a4dea24-eb45-4727-bab7-350b6f415f30",
   "metadata": {},
   "outputs": [
    {
     "name": "stdout",
     "output_type": "stream",
     "text": [
      "Album 'divide' không có trong danh sách.\n"
     ]
    }
   ],
   "source": [
    "# Kiểm tra nếu 'divide' có trong các giá trị unique của cột 'album'\n",
    "if 'Divide' in df['album'].unique():\n",
    "    print(\"Album 'divide' có trong danh sách.\")\n",
    "else:\n",
    "    print(\"Album 'divide' không có trong danh sách.\")\n",
    "\n",
    "\n"
   ]
  },
  {
   "cell_type": "code",
   "execution_count": 8,
   "id": "6a8bb86b-f594-450f-ba4d-a5ce43f7d96d",
   "metadata": {},
   "outputs": [
    {
     "name": "stdout",
     "output_type": "stream",
     "text": [
      "Độ dài trung bình là:  3.3185161666666665\n",
      "Điểm phổ trung bình là:  56.669\n",
      "Lost Boy\n",
      "Bezos I\n",
      "That’s So True\n",
      "total artist:  526\n"
     ]
    }
   ],
   "source": [
    "# độ dài tung bình\n",
    "avearage_duration = df['duration_min'].mean()\n",
    "print('Độ dài trung bình là: ',avearage_duration)\n",
    "# điểm phổ biến trung bình\n",
    "avearage_pop = df['popularity'].mean()\n",
    "print('Điểm phổ trung bình là: ',avearage_pop)\n",
    "# bài hát dài nhất:\n",
    "longest_song=df.loc[df['duration_min'].idxmax()][\"track_name\"]\n",
    "print(longest_song)\n",
    "# bài hát ngắn nhất:\n",
    "shortest_song=df.loc[df['duration_min'].idxmin()][\"track_name\"]\n",
    "print(shortest_song)\n",
    "# bài hát phổ biến nhất\n",
    "popular_song=df.loc[df['popularity'].idxmax()][\"track_name\"]\n",
    "print(popular_song)\n",
    "# số nghệ sĩ\n",
    "total_artist=df['artist'].nunique()\n",
    "print(\"total artist: \",total_artist)"
   ]
  },
  {
   "cell_type": "code",
   "execution_count": 9,
   "id": "29ff7976-fe78-47e8-a539-2da888298810",
   "metadata": {},
   "outputs": [
    {
     "name": "stdout",
     "output_type": "stream",
     "text": [
      "artist\n",
      "The Weeknd       26\n",
      "Taylor Swift     25\n",
      "Avril Lavigne    21\n",
      "Alan Walker      14\n",
      "Selena Gomez     12\n",
      "                 ..\n",
      "ISAEV             1\n",
      "IDER              1\n",
      "Hyper VIPER       1\n",
      "Home              1\n",
      "✝✝✝ (Crosses)     1\n",
      "Name: track_name, Length: 526, dtype: int64\n",
      "album\n",
      "The Secret of Us (Deluxe)                                  97.0\n",
      "APT.                                                       96.0\n",
      "Black Panther The Album Music From And Inspired By         95.0\n",
      "The Idol Episode 4 (Music from the HBO Original Series)    93.0\n",
      "AM                                                         93.0\n",
      "                                                           ... \n",
      "Meltdown                                                    0.0\n",
      "Monkey Business (International Version)                     0.0\n",
      "Never Coming Back                                           0.0\n",
      "No Gravity                                                  0.0\n",
      "✝✝✝ (Crosses)                                               0.0\n",
      "Name: popularity, Length: 822, dtype: float64\n"
     ]
    }
   ],
   "source": [
    "# Nhóm theo artist và đếm số lượng bài hát của mỗi nghệ sĩ.\n",
    "a = df.groupby('artist')['track_name'].count().sort_values(ascending=False)\n",
    "print(a)\n",
    "# Nhóm theo album và tính điểm phổ biến trung bình của từng album.\n",
    "b=df.groupby('album')['popularity'].mean().sort_values(ascending=False)\n",
    "print(b)"
   ]
  },
  {
   "cell_type": "code",
   "execution_count": 10,
   "id": "4a636dd5-f35f-4684-a7ab-2fdda2c70f73",
   "metadata": {},
   "outputs": [
    {
     "name": "stdout",
     "output_type": "stream",
     "text": [
      "                                         track_name  popularity\n",
      "611                                  That’s So True          97\n",
      "606                                            APT.          96\n",
      "0                          All The Stars (with SZA)          95\n",
      "771  One Of The Girls (with JENNIE, Lily Rose Depp)          93\n",
      "484                                I Wanna Be Yours          93\n",
      "615                                            blue          92\n",
      "83                                           Yellow          92\n",
      "628                                 Sweater Weather          92\n",
      "743                                    Show Me Love          92\n",
      "34                                     Cruel Summer          90\n"
     ]
    }
   ],
   "source": [
    "# Sắp xếp các bài hát theo popularity giảm dần.\n",
    "df_sorted =df.sort_values(by='popularity',ascending=False)\n",
    "print(df_sorted[['track_name','popularity']].head(10))"
   ]
  },
  {
   "cell_type": "code",
   "execution_count": 11,
   "id": "c9979663-97f3-427f-a771-e03d9f65b302",
   "metadata": {},
   "outputs": [
    {
     "name": "stdout",
     "output_type": "stream",
     "text": [
      "                    track_name         artist release_date\n",
      "826            Meet Me Halfway        Sandëro   2025-04-11\n",
      "828          Where Are You Now  Nick Giardino   2025-04-04\n",
      "845                      ALONE          NEWER   2025-04-04\n",
      "829                The Monster        Gaullin   2025-03-28\n",
      "847                  BANGALORE       Cesqeaux   2025-03-28\n",
      "841        Boots On The Ground    Dillin Hoox   2025-03-28\n",
      "821   MONTAGEM TOMADA - Slowed           MXZI   2025-03-21\n",
      "851  More Than Ever (Umbrella)          LEDUC   2025-03-21\n",
      "774                     Oxygen          Pixia   2025-03-21\n",
      "630                    Anxiety        Doechii   2025-03-14\n"
     ]
    }
   ],
   "source": [
    "# Sắp xếp các bài hát theo release_date từ mới đến cũ.\n",
    "df['release_date'] = pd.to_datetime(df['release_date'], format='mixed', errors='coerce')\n",
    "df_sorted = df.sort_values(by='release_date', ascending=False)\n",
    "print(df_sorted[['track_name', 'artist', 'release_date']].head(10))\n"
   ]
  },
  {
   "cell_type": "code",
   "execution_count": 12,
   "id": "70d223b2-4bdf-47d5-9576-ff8eb2f2c1cb",
   "metadata": {},
   "outputs": [
    {
     "name": "stdout",
     "output_type": "stream",
     "text": [
      "artist\n",
      "Taylor Swift     25\n",
      "The Weeknd       23\n",
      "Avril Lavigne    20\n",
      "Alan Walker      13\n",
      "Selena Gomez     12\n",
      "Name: track_name, dtype: int64\n"
     ]
    }
   ],
   "source": [
    "art=df.groupby('artist')['track_name'].nunique().sort_values(ascending=False)\n",
    "\n",
    "print(art.head(5))"
   ]
  },
  {
   "cell_type": "code",
   "execution_count": null,
   "id": "ed48b712-8663-400d-91e8-60c13d0bd2a1",
   "metadata": {},
   "outputs": [],
   "source": [
    "# tiền xử lí dữ liệu\n",
    "df = df.drop_duplicates()\n",
    "df['release_date'] = pd.to_datetime(df['release_date'], format='mixed', errors='coerce')\n",
    "df['release_year'] = df['release_date'].dt.year\n",
    "df_2010s = df[(df['release_year'] >= 2010) & (df['release_year'] <= 2019)]\n",
    "df['duration_sec'] = df['duration_min'] * 60\n"
   ]
  },
  {
   "cell_type": "code",
   "execution_count": 13,
   "id": "17943f53-bc30-4884-8955-f7d207d78fad",
   "metadata": {},
   "outputs": [
    {
     "name": "stdout",
     "output_type": "stream",
     "text": [
      "                 track_name          artist  \\\n",
      "0  All The Stars (with SZA)  Kendrick Lamar   \n",
      "1                   Starboy      The Weeknd   \n",
      "2                  Señorita    Shawn Mendes   \n",
      "3                Heat Waves   Glass Animals   \n",
      "4           Let Me Love You        DJ Snake   \n",
      "\n",
      "                                               album release_date  popularity  \\\n",
      "0  Black Panther The Album Music From And Inspire...   2018-02-09          95   \n",
      "1                                            Starboy   2016-11-25          90   \n",
      "2                                           Señorita   2019-06-21          80   \n",
      "3                                          Dreamland   2020-08-07          87   \n",
      "4                                             Encore   2016-08-05          87   \n",
      "\n",
      "                                         spotify_url                      id  \\\n",
      "0  https://open.spotify.com/track/3GCdLUSnKSMJhs4...  3GCdLUSnKSMJhs4Tj6CV3s   \n",
      "1  https://open.spotify.com/track/7MXVkk9YMctZqd1...  7MXVkk9YMctZqd1Srtv4MB   \n",
      "2  https://open.spotify.com/track/0TK2YIli7K1leLo...  0TK2YIli7K1leLovkQiNik   \n",
      "3  https://open.spotify.com/track/3USxtqRwSYz57Ew...  3USxtqRwSYz57Ewm6wWRMp   \n",
      "4  https://open.spotify.com/track/0lYBSQXN6rCTvUZ...  0lYBSQXN6rCTvUZvg9S0lU   \n",
      "\n",
      "   duration_min  release_year  duration_sec  \n",
      "0      3.869767          2018       232.186  \n",
      "1      3.840883          2016       230.453  \n",
      "2      3.182667          2019       190.960  \n",
      "3      3.980083          2020       238.805  \n",
      "4      3.432433          2016       205.946  \n"
     ]
    }
   ],
   "source": [
    "print(df.head(5))"
   ]
  }
 ],
 "metadata": {
  "kernelspec": {
   "display_name": "Python 3 (ipykernel)",
   "language": "python",
   "name": "python3"
  },
  "language_info": {
   "codemirror_mode": {
    "name": "ipython",
    "version": 3
   },
   "file_extension": ".py",
   "mimetype": "text/x-python",
   "name": "python",
   "nbconvert_exporter": "python",
   "pygments_lexer": "ipython3",
   "version": "3.9.21"
  }
 },
 "nbformat": 4,
 "nbformat_minor": 5
}
